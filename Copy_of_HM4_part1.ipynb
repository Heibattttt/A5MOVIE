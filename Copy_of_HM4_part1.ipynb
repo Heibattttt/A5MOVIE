{
  "cells": [
    {
      "cell_type": "markdown",
      "metadata": {
        "id": "view-in-github",
        "colab_type": "text"
      },
      "source": [
        "<a href=\"https://colab.research.google.com/github/Heibattttt/A5MOVIE/blob/main/Copy_of_HM4_part1.ipynb\" target=\"_parent\"><img src=\"https://colab.research.google.com/assets/colab-badge.svg\" alt=\"Open In Colab\"/></a>"
      ]
    },
    {
      "cell_type": "code",
      "execution_count": null,
      "metadata": {
        "id": "VEEvcnsvbGSC"
      },
      "outputs": [],
      "source": [
        "!pip install -q kaggle"
      ]
    },
    {
      "cell_type": "code",
      "execution_count": null,
      "metadata": {
        "colab": {
          "base_uri": "https://localhost:8080/"
        },
        "id": "oadW0HxZHb2L",
        "outputId": "bbadbf78-54c2-417e-a01f-9b5cd5d552a8"
      },
      "outputs": [
        {
          "name": "stdout",
          "output_type": "stream",
          "text": [
            "mkdir: cannot create directory ‘/root/.kaggle’: File exists\n",
            "mv: cannot stat 'kaggle.json': No such file or directory\n"
          ]
        }
      ],
      "source": [
        "!mkdir ~/.kaggle\n",
        "!mv kaggle.json ~/.kaggle/\n"
      ]
    },
    {
      "cell_type": "code",
      "execution_count": 1,
      "metadata": {
        "colab": {
          "base_uri": "https://localhost:8080/"
        },
        "id": "Dr8HQXkEQ-jP",
        "outputId": "14b0a89e-e96f-4a24-d592-8342bd556989"
      },
      "outputs": [
        {
          "output_type": "stream",
          "name": "stdout",
          "text": [
            "Dataset URL: https://www.kaggle.com/datasets/grouplens/movielens-20m-dataset\n",
            "License(s): unknown\n",
            "Downloading movielens-20m-dataset.zip to /content\n",
            " 97% 189M/195M [00:01<00:00, 137MB/s]\n",
            "100% 195M/195M [00:01<00:00, 130MB/s]\n"
          ]
        }
      ],
      "source": [
        " #!/bin/bash\n",
        "!kaggle datasets download grouplens/movielens-20m-dataset\n"
      ]
    },
    {
      "cell_type": "code",
      "execution_count": 2,
      "metadata": {
        "id": "pAOKcz0HRhTQ"
      },
      "outputs": [],
      "source": [
        "import zipfile\n",
        "with zipfile.ZipFile('movielens-20m-dataset.zip', 'r') as zip_ref:\n",
        "    zip_ref.extractall('data')\n"
      ]
    },
    {
      "cell_type": "markdown",
      "metadata": {
        "id": "4yJWGDryC--7"
      },
      "source": [
        "## **1. Recommendation System with LSH**\n",
        "\n"
      ]
    },
    {
      "cell_type": "markdown",
      "metadata": {
        "id": "8WVV37coDJVt"
      },
      "source": [
        "### **1.1 Data Preparation**"
      ]
    },
    {
      "cell_type": "markdown",
      "source": [
        "The following steps are data preparation, to ensure that our dataset is clean and structured in a way that makes it ready for building recommendation system or performing any other analysis."
      ],
      "metadata": {
        "id": "FafazwLR-DsA"
      }
    },
    {
      "cell_type": "code",
      "execution_count": 3,
      "metadata": {
        "id": "aEDwxWc-P00b"
      },
      "outputs": [],
      "source": [
        "import pandas as pd\n",
        "import numpy as np\n",
        "import seaborn as sns\n",
        "import matplotlib.pyplot as plt\n",
        "import ast"
      ]
    },
    {
      "cell_type": "code",
      "source": [
        "rating = pd.read_csv('data/rating.csv')\n",
        "movie = pd.read_csv('data/movie.csv')"
      ],
      "metadata": {
        "id": "eDSBnLM82IMQ"
      },
      "execution_count": 4,
      "outputs": []
    },
    {
      "cell_type": "code",
      "source": [
        "print(rating.head())\n",
        "print(movie.head())"
      ],
      "metadata": {
        "colab": {
          "base_uri": "https://localhost:8080/"
        },
        "id": "r_L01baY2Q37",
        "outputId": "f6c9ce5d-846d-4f24-e02c-3ababe2b4f89"
      },
      "execution_count": 5,
      "outputs": [
        {
          "output_type": "stream",
          "name": "stdout",
          "text": [
            "   userId  movieId  rating            timestamp\n",
            "0       1        2     3.5  2005-04-02 23:53:47\n",
            "1       1       29     3.5  2005-04-02 23:31:16\n",
            "2       1       32     3.5  2005-04-02 23:33:39\n",
            "3       1       47     3.5  2005-04-02 23:32:07\n",
            "4       1       50     3.5  2005-04-02 23:29:40\n",
            "   movieId                               title  \\\n",
            "0        1                    Toy Story (1995)   \n",
            "1        2                      Jumanji (1995)   \n",
            "2        3             Grumpier Old Men (1995)   \n",
            "3        4            Waiting to Exhale (1995)   \n",
            "4        5  Father of the Bride Part II (1995)   \n",
            "\n",
            "                                        genres  \n",
            "0  Adventure|Animation|Children|Comedy|Fantasy  \n",
            "1                   Adventure|Children|Fantasy  \n",
            "2                               Comedy|Romance  \n",
            "3                         Comedy|Drama|Romance  \n",
            "4                                       Comedy  \n"
          ]
        }
      ]
    },
    {
      "cell_type": "code",
      "source": [
        "print(rating.info())  # Get info on null values and data types\n",
        "print(movie.info())   # Same for movies dataset\n"
      ],
      "metadata": {
        "colab": {
          "base_uri": "https://localhost:8080/"
        },
        "id": "WWCJ9BzW1_1F",
        "outputId": "3e5070eb-0eb9-4f3a-eac3-c0255451371f"
      },
      "execution_count": 6,
      "outputs": [
        {
          "output_type": "stream",
          "name": "stdout",
          "text": [
            "<class 'pandas.core.frame.DataFrame'>\n",
            "RangeIndex: 20000263 entries, 0 to 20000262\n",
            "Data columns (total 4 columns):\n",
            " #   Column     Dtype  \n",
            "---  ------     -----  \n",
            " 0   userId     int64  \n",
            " 1   movieId    int64  \n",
            " 2   rating     float64\n",
            " 3   timestamp  object \n",
            "dtypes: float64(1), int64(2), object(1)\n",
            "memory usage: 610.4+ MB\n",
            "None\n",
            "<class 'pandas.core.frame.DataFrame'>\n",
            "RangeIndex: 27278 entries, 0 to 27277\n",
            "Data columns (total 3 columns):\n",
            " #   Column   Non-Null Count  Dtype \n",
            "---  ------   --------------  ----- \n",
            " 0   movieId  27278 non-null  int64 \n",
            " 1   title    27278 non-null  object\n",
            " 2   genres   27278 non-null  object\n",
            "dtypes: int64(1), object(2)\n",
            "memory usage: 639.5+ KB\n",
            "None\n"
          ]
        }
      ]
    },
    {
      "cell_type": "code",
      "source": [
        "print(rating.describe())  # Get statistical details about ratings\n",
        "print(movie['genres'].value_counts())"
      ],
      "metadata": {
        "colab": {
          "base_uri": "https://localhost:8080/"
        },
        "id": "ul1NSRer3Kdb",
        "outputId": "6f6b9ca9-ebed-4fd7-8a34-ffcfa1e26234"
      },
      "execution_count": 7,
      "outputs": [
        {
          "output_type": "stream",
          "name": "stdout",
          "text": [
            "             userId       movieId        rating\n",
            "count  2.000026e+07  2.000026e+07  2.000026e+07\n",
            "mean   6.904587e+04  9.041567e+03  3.525529e+00\n",
            "std    4.003863e+04  1.978948e+04  1.051989e+00\n",
            "min    1.000000e+00  1.000000e+00  5.000000e-01\n",
            "25%    3.439500e+04  9.020000e+02  3.000000e+00\n",
            "50%    6.914100e+04  2.167000e+03  3.500000e+00\n",
            "75%    1.036370e+05  4.770000e+03  4.000000e+00\n",
            "max    1.384930e+05  1.312620e+05  5.000000e+00\n",
            "genres\n",
            "Drama                                                  4520\n",
            "Comedy                                                 2294\n",
            "Documentary                                            1942\n",
            "Comedy|Drama                                           1264\n",
            "Drama|Romance                                          1075\n",
            "                                                       ... \n",
            "Action|Comedy|Crime|Western                               1\n",
            "Action|Fantasy|Sci-Fi|Thriller                            1\n",
            "Action|Drama|Fantasy|Horror|Mystery|Sci-Fi|Thriller       1\n",
            "Action|Drama|Fantasy|Romance                              1\n",
            "Animation|Children|Comedy|Western                         1\n",
            "Name: count, Length: 1342, dtype: int64\n"
          ]
        }
      ]
    },
    {
      "cell_type": "code",
      "source": [
        "rating['timestamp'] = pd.to_datetime(rating['timestamp']) #to ensure a correct format for timestamps\n"
      ],
      "metadata": {
        "id": "ifkwJkYvAfFo"
      },
      "execution_count": 16,
      "outputs": []
    },
    {
      "cell_type": "code",
      "execution_count": 17,
      "metadata": {
        "colab": {
          "base_uri": "https://localhost:8080/"
        },
        "id": "7XWv-gGAscF5",
        "outputId": "b3a1893b-05a3-4692-b58d-e53fde0861e1"
      },
      "outputs": [
        {
          "output_type": "stream",
          "name": "stdout",
          "text": [
            "                             clean_genres\n",
            "0              Adventure Children Fantasy\n",
            "1  Adventure Drama Fantasy Mystery Sci-Fi\n",
            "2                 Mystery Sci-Fi Thriller\n",
            "3                        Mystery Thriller\n",
            "4                  Crime Mystery Thriller\n"
          ]
        }
      ],
      "source": [
        "# Merging the rating data with the movie data\n",
        "movie_rating = pd.merge(rating, movie, on='movieId')\n",
        "\n",
        "# Clean up genres\n",
        "movie_rating['clean_genres'] = movie_rating['genres'].str.replace('|', ' ', regex=False)\n",
        "\n",
        "print(movie_rating[['clean_genres']].head())\n"
      ]
    },
    {
      "cell_type": "code",
      "source": [
        "movie_rating = pd.merge(rating, movie, on='movieId', how='inner')\n",
        "\n",
        "movie_rating.head()"
      ],
      "metadata": {
        "colab": {
          "base_uri": "https://localhost:8080/",
          "height": 206
        },
        "id": "34Z8bi3VANze",
        "outputId": "60533685-a922-4e26-a162-0d76bd60d954"
      },
      "execution_count": 18,
      "outputs": [
        {
          "output_type": "execute_result",
          "data": {
            "text/plain": [
              "   userId  movieId  rating           timestamp  \\\n",
              "0       1        2     3.5 2005-04-02 23:53:47   \n",
              "1       1       29     3.5 2005-04-02 23:31:16   \n",
              "2       1       32     3.5 2005-04-02 23:33:39   \n",
              "3       1       47     3.5 2005-04-02 23:32:07   \n",
              "4       1       50     3.5 2005-04-02 23:29:40   \n",
              "\n",
              "                                               title  \\\n",
              "0                                     Jumanji (1995)   \n",
              "1  City of Lost Children, The (Cité des enfants p...   \n",
              "2          Twelve Monkeys (a.k.a. 12 Monkeys) (1995)   \n",
              "3                        Seven (a.k.a. Se7en) (1995)   \n",
              "4                         Usual Suspects, The (1995)   \n",
              "\n",
              "                                   genres  \\\n",
              "0              Adventure|Children|Fantasy   \n",
              "1  Adventure|Drama|Fantasy|Mystery|Sci-Fi   \n",
              "2                 Mystery|Sci-Fi|Thriller   \n",
              "3                        Mystery|Thriller   \n",
              "4                  Crime|Mystery|Thriller   \n",
              "\n",
              "                             clean_genres  \n",
              "0              Adventure Children Fantasy  \n",
              "1  Adventure Drama Fantasy Mystery Sci-Fi  \n",
              "2                 Mystery Sci-Fi Thriller  \n",
              "3                        Mystery Thriller  \n",
              "4                  Crime Mystery Thriller  "
            ],
            "text/html": [
              "\n",
              "  <div id=\"df-695dff41-a72c-436b-89bd-b9b1d246ce54\" class=\"colab-df-container\">\n",
              "    <div>\n",
              "<style scoped>\n",
              "    .dataframe tbody tr th:only-of-type {\n",
              "        vertical-align: middle;\n",
              "    }\n",
              "\n",
              "    .dataframe tbody tr th {\n",
              "        vertical-align: top;\n",
              "    }\n",
              "\n",
              "    .dataframe thead th {\n",
              "        text-align: right;\n",
              "    }\n",
              "</style>\n",
              "<table border=\"1\" class=\"dataframe\">\n",
              "  <thead>\n",
              "    <tr style=\"text-align: right;\">\n",
              "      <th></th>\n",
              "      <th>userId</th>\n",
              "      <th>movieId</th>\n",
              "      <th>rating</th>\n",
              "      <th>timestamp</th>\n",
              "      <th>title</th>\n",
              "      <th>genres</th>\n",
              "      <th>clean_genres</th>\n",
              "    </tr>\n",
              "  </thead>\n",
              "  <tbody>\n",
              "    <tr>\n",
              "      <th>0</th>\n",
              "      <td>1</td>\n",
              "      <td>2</td>\n",
              "      <td>3.5</td>\n",
              "      <td>2005-04-02 23:53:47</td>\n",
              "      <td>Jumanji (1995)</td>\n",
              "      <td>Adventure|Children|Fantasy</td>\n",
              "      <td>Adventure Children Fantasy</td>\n",
              "    </tr>\n",
              "    <tr>\n",
              "      <th>1</th>\n",
              "      <td>1</td>\n",
              "      <td>29</td>\n",
              "      <td>3.5</td>\n",
              "      <td>2005-04-02 23:31:16</td>\n",
              "      <td>City of Lost Children, The (Cité des enfants p...</td>\n",
              "      <td>Adventure|Drama|Fantasy|Mystery|Sci-Fi</td>\n",
              "      <td>Adventure Drama Fantasy Mystery Sci-Fi</td>\n",
              "    </tr>\n",
              "    <tr>\n",
              "      <th>2</th>\n",
              "      <td>1</td>\n",
              "      <td>32</td>\n",
              "      <td>3.5</td>\n",
              "      <td>2005-04-02 23:33:39</td>\n",
              "      <td>Twelve Monkeys (a.k.a. 12 Monkeys) (1995)</td>\n",
              "      <td>Mystery|Sci-Fi|Thriller</td>\n",
              "      <td>Mystery Sci-Fi Thriller</td>\n",
              "    </tr>\n",
              "    <tr>\n",
              "      <th>3</th>\n",
              "      <td>1</td>\n",
              "      <td>47</td>\n",
              "      <td>3.5</td>\n",
              "      <td>2005-04-02 23:32:07</td>\n",
              "      <td>Seven (a.k.a. Se7en) (1995)</td>\n",
              "      <td>Mystery|Thriller</td>\n",
              "      <td>Mystery Thriller</td>\n",
              "    </tr>\n",
              "    <tr>\n",
              "      <th>4</th>\n",
              "      <td>1</td>\n",
              "      <td>50</td>\n",
              "      <td>3.5</td>\n",
              "      <td>2005-04-02 23:29:40</td>\n",
              "      <td>Usual Suspects, The (1995)</td>\n",
              "      <td>Crime|Mystery|Thriller</td>\n",
              "      <td>Crime Mystery Thriller</td>\n",
              "    </tr>\n",
              "  </tbody>\n",
              "</table>\n",
              "</div>\n",
              "    <div class=\"colab-df-buttons\">\n",
              "\n",
              "  <div class=\"colab-df-container\">\n",
              "    <button class=\"colab-df-convert\" onclick=\"convertToInteractive('df-695dff41-a72c-436b-89bd-b9b1d246ce54')\"\n",
              "            title=\"Convert this dataframe to an interactive table.\"\n",
              "            style=\"display:none;\">\n",
              "\n",
              "  <svg xmlns=\"http://www.w3.org/2000/svg\" height=\"24px\" viewBox=\"0 -960 960 960\">\n",
              "    <path d=\"M120-120v-720h720v720H120Zm60-500h600v-160H180v160Zm220 220h160v-160H400v160Zm0 220h160v-160H400v160ZM180-400h160v-160H180v160Zm440 0h160v-160H620v160ZM180-180h160v-160H180v160Zm440 0h160v-160H620v160Z\"/>\n",
              "  </svg>\n",
              "    </button>\n",
              "\n",
              "  <style>\n",
              "    .colab-df-container {\n",
              "      display:flex;\n",
              "      gap: 12px;\n",
              "    }\n",
              "\n",
              "    .colab-df-convert {\n",
              "      background-color: #E8F0FE;\n",
              "      border: none;\n",
              "      border-radius: 50%;\n",
              "      cursor: pointer;\n",
              "      display: none;\n",
              "      fill: #1967D2;\n",
              "      height: 32px;\n",
              "      padding: 0 0 0 0;\n",
              "      width: 32px;\n",
              "    }\n",
              "\n",
              "    .colab-df-convert:hover {\n",
              "      background-color: #E2EBFA;\n",
              "      box-shadow: 0px 1px 2px rgba(60, 64, 67, 0.3), 0px 1px 3px 1px rgba(60, 64, 67, 0.15);\n",
              "      fill: #174EA6;\n",
              "    }\n",
              "\n",
              "    .colab-df-buttons div {\n",
              "      margin-bottom: 4px;\n",
              "    }\n",
              "\n",
              "    [theme=dark] .colab-df-convert {\n",
              "      background-color: #3B4455;\n",
              "      fill: #D2E3FC;\n",
              "    }\n",
              "\n",
              "    [theme=dark] .colab-df-convert:hover {\n",
              "      background-color: #434B5C;\n",
              "      box-shadow: 0px 1px 3px 1px rgba(0, 0, 0, 0.15);\n",
              "      filter: drop-shadow(0px 1px 2px rgba(0, 0, 0, 0.3));\n",
              "      fill: #FFFFFF;\n",
              "    }\n",
              "  </style>\n",
              "\n",
              "    <script>\n",
              "      const buttonEl =\n",
              "        document.querySelector('#df-695dff41-a72c-436b-89bd-b9b1d246ce54 button.colab-df-convert');\n",
              "      buttonEl.style.display =\n",
              "        google.colab.kernel.accessAllowed ? 'block' : 'none';\n",
              "\n",
              "      async function convertToInteractive(key) {\n",
              "        const element = document.querySelector('#df-695dff41-a72c-436b-89bd-b9b1d246ce54');\n",
              "        const dataTable =\n",
              "          await google.colab.kernel.invokeFunction('convertToInteractive',\n",
              "                                                    [key], {});\n",
              "        if (!dataTable) return;\n",
              "\n",
              "        const docLinkHtml = 'Like what you see? Visit the ' +\n",
              "          '<a target=\"_blank\" href=https://colab.research.google.com/notebooks/data_table.ipynb>data table notebook</a>'\n",
              "          + ' to learn more about interactive tables.';\n",
              "        element.innerHTML = '';\n",
              "        dataTable['output_type'] = 'display_data';\n",
              "        await google.colab.output.renderOutput(dataTable, element);\n",
              "        const docLink = document.createElement('div');\n",
              "        docLink.innerHTML = docLinkHtml;\n",
              "        element.appendChild(docLink);\n",
              "      }\n",
              "    </script>\n",
              "  </div>\n",
              "\n",
              "\n",
              "<div id=\"df-7a0ef793-1aa8-4168-be62-a8b74109b829\">\n",
              "  <button class=\"colab-df-quickchart\" onclick=\"quickchart('df-7a0ef793-1aa8-4168-be62-a8b74109b829')\"\n",
              "            title=\"Suggest charts\"\n",
              "            style=\"display:none;\">\n",
              "\n",
              "<svg xmlns=\"http://www.w3.org/2000/svg\" height=\"24px\"viewBox=\"0 0 24 24\"\n",
              "     width=\"24px\">\n",
              "    <g>\n",
              "        <path d=\"M19 3H5c-1.1 0-2 .9-2 2v14c0 1.1.9 2 2 2h14c1.1 0 2-.9 2-2V5c0-1.1-.9-2-2-2zM9 17H7v-7h2v7zm4 0h-2V7h2v10zm4 0h-2v-4h2v4z\"/>\n",
              "    </g>\n",
              "</svg>\n",
              "  </button>\n",
              "\n",
              "<style>\n",
              "  .colab-df-quickchart {\n",
              "      --bg-color: #E8F0FE;\n",
              "      --fill-color: #1967D2;\n",
              "      --hover-bg-color: #E2EBFA;\n",
              "      --hover-fill-color: #174EA6;\n",
              "      --disabled-fill-color: #AAA;\n",
              "      --disabled-bg-color: #DDD;\n",
              "  }\n",
              "\n",
              "  [theme=dark] .colab-df-quickchart {\n",
              "      --bg-color: #3B4455;\n",
              "      --fill-color: #D2E3FC;\n",
              "      --hover-bg-color: #434B5C;\n",
              "      --hover-fill-color: #FFFFFF;\n",
              "      --disabled-bg-color: #3B4455;\n",
              "      --disabled-fill-color: #666;\n",
              "  }\n",
              "\n",
              "  .colab-df-quickchart {\n",
              "    background-color: var(--bg-color);\n",
              "    border: none;\n",
              "    border-radius: 50%;\n",
              "    cursor: pointer;\n",
              "    display: none;\n",
              "    fill: var(--fill-color);\n",
              "    height: 32px;\n",
              "    padding: 0;\n",
              "    width: 32px;\n",
              "  }\n",
              "\n",
              "  .colab-df-quickchart:hover {\n",
              "    background-color: var(--hover-bg-color);\n",
              "    box-shadow: 0 1px 2px rgba(60, 64, 67, 0.3), 0 1px 3px 1px rgba(60, 64, 67, 0.15);\n",
              "    fill: var(--button-hover-fill-color);\n",
              "  }\n",
              "\n",
              "  .colab-df-quickchart-complete:disabled,\n",
              "  .colab-df-quickchart-complete:disabled:hover {\n",
              "    background-color: var(--disabled-bg-color);\n",
              "    fill: var(--disabled-fill-color);\n",
              "    box-shadow: none;\n",
              "  }\n",
              "\n",
              "  .colab-df-spinner {\n",
              "    border: 2px solid var(--fill-color);\n",
              "    border-color: transparent;\n",
              "    border-bottom-color: var(--fill-color);\n",
              "    animation:\n",
              "      spin 1s steps(1) infinite;\n",
              "  }\n",
              "\n",
              "  @keyframes spin {\n",
              "    0% {\n",
              "      border-color: transparent;\n",
              "      border-bottom-color: var(--fill-color);\n",
              "      border-left-color: var(--fill-color);\n",
              "    }\n",
              "    20% {\n",
              "      border-color: transparent;\n",
              "      border-left-color: var(--fill-color);\n",
              "      border-top-color: var(--fill-color);\n",
              "    }\n",
              "    30% {\n",
              "      border-color: transparent;\n",
              "      border-left-color: var(--fill-color);\n",
              "      border-top-color: var(--fill-color);\n",
              "      border-right-color: var(--fill-color);\n",
              "    }\n",
              "    40% {\n",
              "      border-color: transparent;\n",
              "      border-right-color: var(--fill-color);\n",
              "      border-top-color: var(--fill-color);\n",
              "    }\n",
              "    60% {\n",
              "      border-color: transparent;\n",
              "      border-right-color: var(--fill-color);\n",
              "    }\n",
              "    80% {\n",
              "      border-color: transparent;\n",
              "      border-right-color: var(--fill-color);\n",
              "      border-bottom-color: var(--fill-color);\n",
              "    }\n",
              "    90% {\n",
              "      border-color: transparent;\n",
              "      border-bottom-color: var(--fill-color);\n",
              "    }\n",
              "  }\n",
              "</style>\n",
              "\n",
              "  <script>\n",
              "    async function quickchart(key) {\n",
              "      const quickchartButtonEl =\n",
              "        document.querySelector('#' + key + ' button');\n",
              "      quickchartButtonEl.disabled = true;  // To prevent multiple clicks.\n",
              "      quickchartButtonEl.classList.add('colab-df-spinner');\n",
              "      try {\n",
              "        const charts = await google.colab.kernel.invokeFunction(\n",
              "            'suggestCharts', [key], {});\n",
              "      } catch (error) {\n",
              "        console.error('Error during call to suggestCharts:', error);\n",
              "      }\n",
              "      quickchartButtonEl.classList.remove('colab-df-spinner');\n",
              "      quickchartButtonEl.classList.add('colab-df-quickchart-complete');\n",
              "    }\n",
              "    (() => {\n",
              "      let quickchartButtonEl =\n",
              "        document.querySelector('#df-7a0ef793-1aa8-4168-be62-a8b74109b829 button');\n",
              "      quickchartButtonEl.style.display =\n",
              "        google.colab.kernel.accessAllowed ? 'block' : 'none';\n",
              "    })();\n",
              "  </script>\n",
              "</div>\n",
              "\n",
              "    </div>\n",
              "  </div>\n"
            ],
            "application/vnd.google.colaboratory.intrinsic+json": {
              "type": "dataframe",
              "variable_name": "movie_rating"
            }
          },
          "metadata": {},
          "execution_count": 18
        }
      ]
    },
    {
      "cell_type": "code",
      "execution_count": 19,
      "metadata": {
        "colab": {
          "base_uri": "https://localhost:8080/"
        },
        "id": "NJKBn3jG_zuP",
        "outputId": "eefcdd57-2153-4949-9b86-660fcdb5cd9b"
      },
      "outputs": [
        {
          "output_type": "stream",
          "name": "stdout",
          "text": [
            "Number of ratings: 20000263\n",
            "Number of unique movieId's: 26744\n",
            "Number of unique users: 138493\n",
            "Average ratings per user: 144.41\n",
            "Average ratings per movie: 747.84\n"
          ]
        }
      ],
      "source": [
        "n_ratings = len(rating)\n",
        "n_movies = len(rating['movieId'].unique())\n",
        "n_users = len(rating['userId'].unique())\n",
        "\n",
        "print(f\"Number of ratings: {n_ratings}\")\n",
        "print(f\"Number of unique movieId's: {n_movies}\")\n",
        "print(f\"Number of unique users: {n_users}\")\n",
        "print(f\"Average ratings per user: {round(n_ratings/n_users, 2)}\")\n",
        "print(f\"Average ratings per movie: {round(n_ratings/n_movies, 2)}\")"
      ]
    },
    {
      "cell_type": "code",
      "execution_count": 13,
      "metadata": {
        "colab": {
          "base_uri": "https://localhost:8080/",
          "height": 473
        },
        "id": "Ec6LzYRCBlf0",
        "outputId": "7a967b2e-1660-4fd4-9b8a-b5cface8bee3"
      },
      "outputs": [
        {
          "output_type": "display_data",
          "data": {
            "text/plain": [
              "<Figure size 640x480 with 1 Axes>"
            ],
            "image/png": "[encoded data removed]"
          },
          "metadata": {}
        }
      ],
      "source": [
        "sns.countplot(x='rating', data=rating)\n",
        "plt.title(\"Illustration of movie ratings\", fontsize=14)\n",
        "plt.show()"
      ]
    },
    {
      "cell_type": "code",
      "execution_count": 21,
      "metadata": {
        "colab": {
          "base_uri": "https://localhost:8080/"
        },
        "id": "Irwmx4-tEPxP",
        "outputId": "b4f79025-6a57-4e7d-c1ef-dd0971b6aef5"
      },
      "outputs": [
        {
          "output_type": "stream",
          "name": "stdout",
          "text": [
            "Mean rating: 3.53\n",
            "Mean rating per user: 3.13\n"
          ]
        }
      ],
      "source": [
        "# general rating behavior of the users in the dataset\n",
        "print(f\"Mean rating: {round(rating['rating'].mean(), 2)}\")\n",
        "mean_rating = rating.groupby('movieId')[['rating']].mean()\n",
        "print(f\"Mean rating per user: {round(mean_rating['rating'].mean(), 2)}\")"
      ]
    },
    {
      "cell_type": "code",
      "execution_count": 20,
      "metadata": {
        "colab": {
          "base_uri": "https://localhost:8080/",
          "height": 490
        },
        "id": "0qhe1RbIGnHf",
        "outputId": "6530c626-fbe1-43ee-9f31-0cbcd8dec8ec"
      },
      "outputs": [
        {
          "output_type": "execute_result",
          "data": {
            "text/plain": [
              "movieId\n",
              "296       67310\n",
              "356       66172\n",
              "318       63366\n",
              "593       63299\n",
              "480       59715\n",
              "          ...  \n",
              "125545        1\n",
              "78873         1\n",
              "112907        1\n",
              "112909        1\n",
              "110510        1\n",
              "Name: count, Length: 26744, dtype: int64"
            ],
            "text/html": [
              "<div>\n",
              "<style scoped>\n",
              "    .dataframe tbody tr th:only-of-type {\n",
              "        vertical-align: middle;\n",
              "    }\n",
              "\n",
              "    .dataframe tbody tr th {\n",
              "        vertical-align: top;\n",
              "    }\n",
              "\n",
              "    .dataframe thead th {\n",
              "        text-align: right;\n",
              "    }\n",
              "</style>\n",
              "<table border=\"1\" class=\"dataframe\">\n",
              "  <thead>\n",
              "    <tr style=\"text-align: right;\">\n",
              "      <th></th>\n",
              "      <th>count</th>\n",
              "    </tr>\n",
              "    <tr>\n",
              "      <th>movieId</th>\n",
              "      <th></th>\n",
              "    </tr>\n",
              "  </thead>\n",
              "  <tbody>\n",
              "    <tr>\n",
              "      <th>296</th>\n",
              "      <td>67310</td>\n",
              "    </tr>\n",
              "    <tr>\n",
              "      <th>356</th>\n",
              "      <td>66172</td>\n",
              "    </tr>\n",
              "    <tr>\n",
              "      <th>318</th>\n",
              "      <td>63366</td>\n",
              "    </tr>\n",
              "    <tr>\n",
              "      <th>593</th>\n",
              "      <td>63299</td>\n",
              "    </tr>\n",
              "    <tr>\n",
              "      <th>480</th>\n",
              "      <td>59715</td>\n",
              "    </tr>\n",
              "    <tr>\n",
              "      <th>...</th>\n",
              "      <td>...</td>\n",
              "    </tr>\n",
              "    <tr>\n",
              "      <th>125545</th>\n",
              "      <td>1</td>\n",
              "    </tr>\n",
              "    <tr>\n",
              "      <th>78873</th>\n",
              "      <td>1</td>\n",
              "    </tr>\n",
              "    <tr>\n",
              "      <th>112907</th>\n",
              "      <td>1</td>\n",
              "    </tr>\n",
              "    <tr>\n",
              "      <th>112909</th>\n",
              "      <td>1</td>\n",
              "    </tr>\n",
              "    <tr>\n",
              "      <th>110510</th>\n",
              "      <td>1</td>\n",
              "    </tr>\n",
              "  </tbody>\n",
              "</table>\n",
              "<p>26744 rows × 1 columns</p>\n",
              "</div><br><label><b>dtype:</b> int64</label>"
            ]
          },
          "metadata": {},
          "execution_count": 20
        }
      ],
      "source": [
        "#number of rating times for each MovieId\n",
        "rating['movieId'].value_counts()\n"
      ]
    },
    {
      "cell_type": "code",
      "source": [
        "#The 10 Most rated movies.\n",
        "movie_rating = rating.merge(movie, on='movieId')\n",
        "movie_rating['title'].value_counts()[0:10]"
      ],
      "metadata": {
        "id": "LXDqSgKS500-"
      },
      "execution_count": null,
      "outputs": []
    },
    {
      "cell_type": "code",
      "execution_count": 34,
      "metadata": {
        "colab": {
          "base_uri": "https://localhost:8080/",
          "height": 81
        },
        "id": "1hPxlnPmJ5vN",
        "outputId": "a985c784-31f6-4bf6-943e-68d3132c101a"
      },
      "outputs": [
        {
          "output_type": "execute_result",
          "data": {
            "text/plain": [
              "      movieId                                title  genres clean_genres\n",
              "8176     8859  SuperBabies: Baby Geniuses 2 (2004)  Comedy       Comedy"
            ],
            "text/html": [
              "\n",
              "  <div id=\"df-552ad579-793d-4acc-8207-285edb6d33f6\" class=\"colab-df-container\">\n",
              "    <div>\n",
              "<style scoped>\n",
              "    .dataframe tbody tr th:only-of-type {\n",
              "        vertical-align: middle;\n",
              "    }\n",
              "\n",
              "    .dataframe tbody tr th {\n",
              "        vertical-align: top;\n",
              "    }\n",
              "\n",
              "    .dataframe thead th {\n",
              "        text-align: right;\n",
              "    }\n",
              "</style>\n",
              "<table border=\"1\" class=\"dataframe\">\n",
              "  <thead>\n",
              "    <tr style=\"text-align: right;\">\n",
              "      <th></th>\n",
              "      <th>movieId</th>\n",
              "      <th>title</th>\n",
              "      <th>genres</th>\n",
              "      <th>clean_genres</th>\n",
              "    </tr>\n",
              "  </thead>\n",
              "  <tbody>\n",
              "    <tr>\n",
              "      <th>8176</th>\n",
              "      <td>8859</td>\n",
              "      <td>SuperBabies: Baby Geniuses 2 (2004)</td>\n",
              "      <td>Comedy</td>\n",
              "      <td>Comedy</td>\n",
              "    </tr>\n",
              "  </tbody>\n",
              "</table>\n",
              "</div>\n",
              "    <div class=\"colab-df-buttons\">\n",
              "\n",
              "  <div class=\"colab-df-container\">\n",
              "    <button class=\"colab-df-convert\" onclick=\"convertToInteractive('df-552ad579-793d-4acc-8207-285edb6d33f6')\"\n",
              "            title=\"Convert this dataframe to an interactive table.\"\n",
              "            style=\"display:none;\">\n",
              "\n",
              "  <svg xmlns=\"http://www.w3.org/2000/svg\" height=\"24px\" viewBox=\"0 -960 960 960\">\n",
              "    <path d=\"M120-120v-720h720v720H120Zm60-500h600v-160H180v160Zm220 220h160v-160H400v160Zm0 220h160v-160H400v160ZM180-400h160v-160H180v160Zm440 0h160v-160H620v160ZM180-180h160v-160H180v160Zm440 0h160v-160H620v160Z\"/>\n",
              "  </svg>\n",
              "    </button>\n",
              "\n",
              "  <style>\n",
              "    .colab-df-container {\n",
              "      display:flex;\n",
              "      gap: 12px;\n",
              "    }\n",
              "\n",
              "    .colab-df-convert {\n",
              "      background-color: #E8F0FE;\n",
              "      border: none;\n",
              "      border-radius: 50%;\n",
              "      cursor: pointer;\n",
              "      display: none;\n",
              "      fill: #1967D2;\n",
              "      height: 32px;\n",
              "      padding: 0 0 0 0;\n",
              "      width: 32px;\n",
              "    }\n",
              "\n",
              "    .colab-df-convert:hover {\n",
              "      background-color: #E2EBFA;\n",
              "      box-shadow: 0px 1px 2px rgba(60, 64, 67, 0.3), 0px 1px 3px 1px rgba(60, 64, 67, 0.15);\n",
              "      fill: #174EA6;\n",
              "    }\n",
              "\n",
              "    .colab-df-buttons div {\n",
              "      margin-bottom: 4px;\n",
              "    }\n",
              "\n",
              "    [theme=dark] .colab-df-convert {\n",
              "      background-color: #3B4455;\n",
              "      fill: #D2E3FC;\n",
              "    }\n",
              "\n",
              "    [theme=dark] .colab-df-convert:hover {\n",
              "      background-color: #434B5C;\n",
              "      box-shadow: 0px 1px 3px 1px rgba(0, 0, 0, 0.15);\n",
              "      filter: drop-shadow(0px 1px 2px rgba(0, 0, 0, 0.3));\n",
              "      fill: #FFFFFF;\n",
              "    }\n",
              "  </style>\n",
              "\n",
              "    <script>\n",
              "      const buttonEl =\n",
              "        document.querySelector('#df-552ad579-793d-4acc-8207-285edb6d33f6 button.colab-df-convert');\n",
              "      buttonEl.style.display =\n",
              "        google.colab.kernel.accessAllowed ? 'block' : 'none';\n",
              "\n",
              "      async function convertToInteractive(key) {\n",
              "        const element = document.querySelector('#df-552ad579-793d-4acc-8207-285edb6d33f6');\n",
              "        const dataTable =\n",
              "          await google.colab.kernel.invokeFunction('convertToInteractive',\n",
              "                                                    [key], {});\n",
              "        if (!dataTable) return;\n",
              "\n",
              "        const docLinkHtml = 'Like what you see? Visit the ' +\n",
              "          '<a target=\"_blank\" href=https://colab.research.google.com/notebooks/data_table.ipynb>data table notebook</a>'\n",
              "          + ' to learn more about interactive tables.';\n",
              "        element.innerHTML = '';\n",
              "        dataTable['output_type'] = 'display_data';\n",
              "        await google.colab.output.renderOutput(dataTable, element);\n",
              "        const docLink = document.createElement('div');\n",
              "        docLink.innerHTML = docLinkHtml;\n",
              "        element.appendChild(docLink);\n",
              "      }\n",
              "    </script>\n",
              "  </div>\n",
              "\n",
              "\n",
              "    </div>\n",
              "  </div>\n"
            ],
            "application/vnd.google.colaboratory.intrinsic+json": {
              "type": "dataframe",
              "summary": "{\n  \"name\": \"movie\",\n  \"rows\": 1,\n  \"fields\": [\n    {\n      \"column\": \"movieId\",\n      \"properties\": {\n        \"dtype\": \"number\",\n        \"std\": null,\n        \"min\": 8859,\n        \"max\": 8859,\n        \"num_unique_values\": 1,\n        \"samples\": [\n          8859\n        ],\n        \"semantic_type\": \"\",\n        \"description\": \"\"\n      }\n    },\n    {\n      \"column\": \"title\",\n      \"properties\": {\n        \"dtype\": \"string\",\n        \"num_unique_values\": 1,\n        \"samples\": [\n          \"SuperBabies: Baby Geniuses 2 (2004)\"\n        ],\n        \"semantic_type\": \"\",\n        \"description\": \"\"\n      }\n    },\n    {\n      \"column\": \"genres\",\n      \"properties\": {\n        \"dtype\": \"string\",\n        \"num_unique_values\": 1,\n        \"samples\": [\n          \"Comedy\"\n        ],\n        \"semantic_type\": \"\",\n        \"description\": \"\"\n      }\n    },\n    {\n      \"column\": \"clean_genres\",\n      \"properties\": {\n        \"dtype\": \"string\",\n        \"num_unique_values\": 1,\n        \"samples\": [\n          \"Comedy\"\n        ],\n        \"semantic_type\": \"\",\n        \"description\": \"\"\n      }\n    }\n  ]\n}"
            }
          },
          "metadata": {},
          "execution_count": 34
        }
      ],
      "source": [
        "#The lowest rated movie.\n",
        "mean_rating = rating.groupby('movieId')[['rating']].mean()\n",
        "lowest_rated = mean_rating['rating'].idxmin()\n",
        "movie.loc[movie['movieId'] == lowest_rated]"
      ]
    },
    {
      "cell_type": "code",
      "execution_count": 33,
      "metadata": {
        "colab": {
          "base_uri": "https://localhost:8080/",
          "height": 81
        },
        "id": "IMatlMw7J5h1",
        "outputId": "f0f70081-9937-444e-b5a2-79928b48558c"
      },
      "outputs": [
        {
          "output_type": "execute_result",
          "data": {
            "text/plain": [
              "     movieId                             title       genres clean_genres\n",
              "315      318  Shawshank Redemption, The (1994)  Crime|Drama  Crime Drama"
            ],
            "text/html": [
              "\n",
              "  <div id=\"df-4886b32b-f23f-45d7-8358-fad06b3c6d37\" class=\"colab-df-container\">\n",
              "    <div>\n",
              "<style scoped>\n",
              "    .dataframe tbody tr th:only-of-type {\n",
              "        vertical-align: middle;\n",
              "    }\n",
              "\n",
              "    .dataframe tbody tr th {\n",
              "        vertical-align: top;\n",
              "    }\n",
              "\n",
              "    .dataframe thead th {\n",
              "        text-align: right;\n",
              "    }\n",
              "</style>\n",
              "<table border=\"1\" class=\"dataframe\">\n",
              "  <thead>\n",
              "    <tr style=\"text-align: right;\">\n",
              "      <th></th>\n",
              "      <th>movieId</th>\n",
              "      <th>title</th>\n",
              "      <th>genres</th>\n",
              "      <th>clean_genres</th>\n",
              "    </tr>\n",
              "  </thead>\n",
              "  <tbody>\n",
              "    <tr>\n",
              "      <th>315</th>\n",
              "      <td>318</td>\n",
              "      <td>Shawshank Redemption, The (1994)</td>\n",
              "      <td>Crime|Drama</td>\n",
              "      <td>Crime Drama</td>\n",
              "    </tr>\n",
              "  </tbody>\n",
              "</table>\n",
              "</div>\n",
              "    <div class=\"colab-df-buttons\">\n",
              "\n",
              "  <div class=\"colab-df-container\">\n",
              "    <button class=\"colab-df-convert\" onclick=\"convertToInteractive('df-4886b32b-f23f-45d7-8358-fad06b3c6d37')\"\n",
              "            title=\"Convert this dataframe to an interactive table.\"\n",
              "            style=\"display:none;\">\n",
              "\n",
              "  <svg xmlns=\"http://www.w3.org/2000/svg\" height=\"24px\" viewBox=\"0 -960 960 960\">\n",
              "    <path d=\"M120-120v-720h720v720H120Zm60-500h600v-160H180v160Zm220 220h160v-160H400v160Zm0 220h160v-160H400v160ZM180-400h160v-160H180v160Zm440 0h160v-160H620v160ZM180-180h160v-160H180v160Zm440 0h160v-160H620v160Z\"/>\n",
              "  </svg>\n",
              "    </button>\n",
              "\n",
              "  <style>\n",
              "    .colab-df-container {\n",
              "      display:flex;\n",
              "      gap: 12px;\n",
              "    }\n",
              "\n",
              "    .colab-df-convert {\n",
              "      background-color: #E8F0FE;\n",
              "      border: none;\n",
              "      border-radius: 50%;\n",
              "      cursor: pointer;\n",
              "      display: none;\n",
              "      fill: #1967D2;\n",
              "      height: 32px;\n",
              "      padding: 0 0 0 0;\n",
              "      width: 32px;\n",
              "    }\n",
              "\n",
              "    .colab-df-convert:hover {\n",
              "      background-color: #E2EBFA;\n",
              "      box-shadow: 0px 1px 2px rgba(60, 64, 67, 0.3), 0px 1px 3px 1px rgba(60, 64, 67, 0.15);\n",
              "      fill: #174EA6;\n",
              "    }\n",
              "\n",
              "    .colab-df-buttons div {\n",
              "      margin-bottom: 4px;\n",
              "    }\n",
              "\n",
              "    [theme=dark] .colab-df-convert {\n",
              "      background-color: #3B4455;\n",
              "      fill: #D2E3FC;\n",
              "    }\n",
              "\n",
              "    [theme=dark] .colab-df-convert:hover {\n",
              "      background-color: #434B5C;\n",
              "      box-shadow: 0px 1px 3px 1px rgba(0, 0, 0, 0.15);\n",
              "      filter: drop-shadow(0px 1px 2px rgba(0, 0, 0, 0.3));\n",
              "      fill: #FFFFFF;\n",
              "    }\n",
              "  </style>\n",
              "\n",
              "    <script>\n",
              "      const buttonEl =\n",
              "        document.querySelector('#df-4886b32b-f23f-45d7-8358-fad06b3c6d37 button.colab-df-convert');\n",
              "      buttonEl.style.display =\n",
              "        google.colab.kernel.accessAllowed ? 'block' : 'none';\n",
              "\n",
              "      async function convertToInteractive(key) {\n",
              "        const element = document.querySelector('#df-4886b32b-f23f-45d7-8358-fad06b3c6d37');\n",
              "        const dataTable =\n",
              "          await google.colab.kernel.invokeFunction('convertToInteractive',\n",
              "                                                    [key], {});\n",
              "        if (!dataTable) return;\n",
              "\n",
              "        const docLinkHtml = 'Like what you see? Visit the ' +\n",
              "          '<a target=\"_blank\" href=https://colab.research.google.com/notebooks/data_table.ipynb>data table notebook</a>'\n",
              "          + ' to learn more about interactive tables.';\n",
              "        element.innerHTML = '';\n",
              "        dataTable['output_type'] = 'display_data';\n",
              "        await google.colab.output.renderOutput(dataTable, element);\n",
              "        const docLink = document.createElement('div');\n",
              "        docLink.innerHTML = docLinkHtml;\n",
              "        element.appendChild(docLink);\n",
              "      }\n",
              "    </script>\n",
              "  </div>\n",
              "\n",
              "\n",
              "    </div>\n",
              "  </div>\n"
            ],
            "application/vnd.google.colaboratory.intrinsic+json": {
              "type": "dataframe",
              "summary": "{\n  \"name\": \"movie\",\n  \"rows\": 1,\n  \"fields\": [\n    {\n      \"column\": \"movieId\",\n      \"properties\": {\n        \"dtype\": \"number\",\n        \"std\": null,\n        \"min\": 318,\n        \"max\": 318,\n        \"num_unique_values\": 1,\n        \"samples\": [\n          318\n        ],\n        \"semantic_type\": \"\",\n        \"description\": \"\"\n      }\n    },\n    {\n      \"column\": \"title\",\n      \"properties\": {\n        \"dtype\": \"string\",\n        \"num_unique_values\": 1,\n        \"samples\": [\n          \"Shawshank Redemption, The (1994)\"\n        ],\n        \"semantic_type\": \"\",\n        \"description\": \"\"\n      }\n    },\n    {\n      \"column\": \"genres\",\n      \"properties\": {\n        \"dtype\": \"string\",\n        \"num_unique_values\": 1,\n        \"samples\": [\n          \"Crime|Drama\"\n        ],\n        \"semantic_type\": \"\",\n        \"description\": \"\"\n      }\n    },\n    {\n      \"column\": \"clean_genres\",\n      \"properties\": {\n        \"dtype\": \"string\",\n        \"num_unique_values\": 1,\n        \"samples\": [\n          \"Crime Drama\"\n        ],\n        \"semantic_type\": \"\",\n        \"description\": \"\"\n      }\n    }\n  ]\n}"
            }
          },
          "metadata": {},
          "execution_count": 33
        }
      ],
      "source": [
        "#The highest rated movie.\n",
        "mean_rating = rating.groupby('movieId')[['rating']].mean()\n",
        "highest_rated = mean_rating['rating'].idxmax()\n",
        "movie.loc[movie['movieId'] == highest_rated]"
      ]
    },
    {
      "cell_type": "markdown",
      "metadata": {
        "id": "UG-iKoIE0GbJ"
      },
      "source": [
        "# **1.2 Minhash Signatures**"
      ]
    },
    {
      "cell_type": "markdown",
      "metadata": {
        "id": "pAf3JWbk0Doi"
      },
      "source": [
        "### **> MinHash function**"
      ]
    },
    {
      "cell_type": "code",
      "execution_count": null,
      "metadata": {
        "colab": {
          "base_uri": "https://localhost:8080/"
        },
        "id": "UaFxSq4zlErq",
        "outputId": "835abe00-913d-48db-fc1f-6e4177ff9e94"
      },
      "outputs": [
        {
          "output_type": "stream",
          "name": "stdout",
          "text": [
            "Most similar users to user 1:\n",
            "User 111424: Similarity = 0.3300\n",
            "User 24743: Similarity = 0.3100\n",
            "User 50738: Similarity = 0.3000\n",
            "User 57492: Similarity = 0.3000\n",
            "User 25286: Similarity = 0.2900\n"
          ]
        }
      ],
      "source": [
        "import pandas as pd\n",
        "import numpy as np\n",
        "import random\n",
        "\n",
        "class MinHashRecommender:\n",
        "    def __init__(self, num_hashes=100):\n",
        "        \"\"\"\n",
        "        Initialize MinHash recommender with configurable hash functions\n",
        "\n",
        "        Args:\n",
        "            num_hashes (int): Number of hash functions to use\n",
        "        \"\"\"\n",
        "        self.num_hashes = num_hashes\n",
        "        self.hash_functions = None\n",
        "        self.user_signatures = None\n",
        "\n",
        "    def generate_hash_functions(self, max_value):\n",
        "        \"\"\"\n",
        "        Generate universal hash functions\n",
        "\n",
        "        Args:\n",
        "            max_value (int): Maximum value to use in hash function generation\n",
        "        \"\"\"\n",
        "        # Use cryptographically secure prime\n",
        "        prime = 2**61 - 1  # Mersenne prime\n",
        "\n",
        "        self.hash_functions = []\n",
        "        for _ in range(self.num_hashes):\n",
        "            # More robust hash function generation\n",
        "            a = random.randint(1, prime - 1)\n",
        "            b = random.randint(0, prime - 1)\n",
        "            self.hash_functions.append((a, b, prime))\n",
        "    def compute_signatures(self, user_sets):\n",
        "        \"\"\"\n",
        "        Compute MinHash signatures for user sets\n",
        "\n",
        "        Args:\n",
        "            user_sets (dict): Dictionary of user IDs to sets of items\n",
        "\n",
        "        Returns:\n",
        "            dict: MinHash signatures for each user\n",
        "        \"\"\"\n",
        "        if not self.hash_functions:\n",
        "            raise ValueError(\"Hash functions not generated. Call generate_hash_functions first.\")\n",
        "\n",
        "        signatures = {}\n",
        "        for user_id, item_set in user_sets.items():\n",
        "            user_signature = []\n",
        "            for a, b, prime in self.hash_functions:\n",
        "                # Compute minimum hash for the set\n",
        "                min_hash = min((a * item + b) % prime for item in item_set)\n",
        "                user_signature.append(min_hash)\n",
        "            signatures[user_id] = user_signature\n",
        "\n",
        "        self.user_signatures = signatures\n",
        "        return signatures\n",
        "\n",
        "    def compute_similarity(self, signature1, signature2):\n",
        "        \"\"\"\n",
        "        Estimate Jaccard similarity using MinHash signatures\n",
        "\n",
        "        Args:\n",
        "            signature1 (list): MinHash signature for first set\n",
        "            signature2 (list): MinHash signature for second set\n",
        "\n",
        "        Returns:\n",
        "            float: Estimated Jaccard similarity\n",
        "        \"\"\"\n",
        "        # Count matching hash values\n",
        "        matches = sum(s1 == s2 for s1, s2 in zip(signature1, signature2))\n",
        "        return matches / len(signature1)\n",
        "\n",
        "    def get_most_similar_users(self, target_user, top_k=5):\n",
        "        \"\"\"\n",
        "        Find most similar users to a target user\n",
        "\n",
        "        Args:\n",
        "            target_user (int): User ID to find similar users for\n",
        "            top_k (int): Number of similar users to return\n",
        "\n",
        "        Returns:\n",
        "            list: Top K most similar users\n",
        "        \"\"\"\n",
        "        if not self.user_signatures:\n",
        "            raise ValueError(\"Signatures not computed. Call compute_signatures first.\")\n",
        "\n",
        "        similarities = []\n",
        "        target_signature = self.user_signatures[target_user]\n",
        "\n",
        "        for user_id, signature in self.user_signatures.items():\n",
        "            if user_id != target_user:\n",
        "                similarity = self.compute_similarity(target_signature, signature)\n",
        "                similarities.append((user_id, similarity))\n",
        "\n",
        "        # Sort and return top K similar users\n",
        "        return sorted(similarities, key=lambda x: x[1], reverse=True)[:top_k]\n",
        "\n",
        "\n",
        "\n",
        "def main():\n",
        "\n",
        "    # Load rating data\n",
        "    rating = pd.read_csv('data/rating.csv')\n",
        "\n",
        "    # Convert to user-movie sets\n",
        "    user_movies = rating.groupby('userId')['movieId'].apply(set).to_dict()\n",
        "\n",
        "    # Initialize and run MinHash\n",
        "    recommender = MinHashRecommender(num_hashes=100)\n",
        "    recommender.generate_hash_functions(max(rating['movieId']))\n",
        "    recommender.compute_signatures(user_movies)\n",
        "\n",
        "    # Find most similar users to user 1\n",
        "    similar_users = recommender.get_most_similar_users(1)\n",
        "    print(\"Most similar users to user 1:\")\n",
        "    for user, similarity in similar_users:\n",
        "        print(f\"User {user}: Similarity = {similarity:.4f}\")\n",
        "\n",
        "if __name__ == \"__main__\":\n",
        "    main()"
      ]
    },
    {
      "cell_type": "markdown",
      "metadata": {
        "id": "Ih-EoGEP0sgX"
      },
      "source": [
        "## **1.3 Locality-Sensitive Hashing (LSH)**\n"
      ]
    },
    {
      "cell_type": "code",
      "execution_count": null,
      "metadata": {
        "colab": {
          "base_uri": "https://localhost:8080/"
        },
        "id": "4GRihDmoU3VM",
        "outputId": "306bbcfc-a472-4131-f7fd-a44b1a6dec11"
      },
      "outputs": [
        {
          "output_type": "stream",
          "name": "stdout",
          "text": [
            "Bands for user 1: [(14181551109458200, 31039877338350443, 2464703022543416, 7647005691587380, 27892990264280973), (22952720239950226, 32503900523582403, 763381824832938, 20563023754421543, 26880640332219713), (9583984462463162, 1177341711415372, 2036029014646939, 13197641508338912, 17481650353874788), (12437515927798519, 5645853259296632, 4894517748699169, 17816921118971637, 32321870890337323), (4569445665532279, 1552336475376420, 24428883904857349, 15149581971220501, 30436360730654149), (3910197154223974, 31003814498526347, 1607976081832894, 4107690435138149, 16242250543236628), (6828078483413869, 13198202317405938, 3748705130162140, 5418164958136678, 10385506631625919), (21304319297497444, 6136775103316262, 2850487705742293, 21807130223392052, 4861844182569462), (8681547434835047, 457897353558040, 3722925210617026, 316722379916926, 13609263682446734), (12620524181816837, 5040778687807550, 4761823791760296, 19364429808134402, 6117512137502969), (6960271322914058, 8717150284890900, 43280688966132513, 16214180100501225, 12476525881217496), (16023271717326814, 1493240733251517, 3387450464667589, 6065365496621605, 11540838636266245), (1741405060383729, 1094345048162085, 3526684286085821, 6007505481978940, 1213480982552479), (9702233688200365, 8189187198074241, 6858377547379366, 13643973471237103, 711249706964650), (2688875480854526, 1013757005504391, 9485395353953619, 6038548975564761, 8435058118717411), (29359852977034561, 5582687151515666, 3556148372182437, 7422698850893146, 1336315552933530), (41019441471817807, 14005736251206471, 9801076928409802, 26401955287930107, 7212287712780040), (5033032587481398, 4732594320157428, 25159761927033337, 8202520374115194, 9030890915907201), (19366028951240636, 1677755521349230, 6265619174350966, 35622969353548786, 4238103904698608), (50633485881112831, 12293895226836128, 2470424137022100, 26013988881122882, 49081916693268)]\n",
            "Bucket 7f5581cf45815bf4ab4492b79d38da0a: [1]\n",
            "Bucket 32ac6fd3349c7ed0fb2ad0d92c7094ee: [1]\n",
            "Bucket 8abeb61e7f39a169165fc55a37ed0035: [1]\n",
            "Bucket 20df40c169170ebb099d430bb8a3f7f2: [1]\n",
            "Bucket 7ad73af16c2e90bbbeed0a9b1e660c75: [1]\n",
            "Similar users for user 1: {2595, 113479, 74218, 108684, 25038, 21264, 59097}\n"
          ]
        }
      ],
      "source": [
        "import numpy as np\n",
        "import hashlib\n",
        "from collections import defaultdict\n",
        "import pandas as pd\n",
        "import random\n",
        "\n",
        "# 1. Bucket Creation\n",
        "# Number of bands and hash functions per band\n",
        "num_bands = 20  # You can adjust this number\n",
        "num_hashes = 100  # Number of hash functions used in the MinHash\n",
        "\n",
        "# Helper function to split the signature into bands\n",
        "def split_into_bands(signature, num_bands, num_hashes):\n",
        "    band_size = num_hashes // num_bands\n",
        "    bands = []\n",
        "\n",
        "    # Split the signature into bands (each band of size `band_size`)\n",
        "    for i in range(num_bands):\n",
        "        band = tuple(signature[i * band_size:(i + 1) * band_size])\n",
        "        bands.append(band)\n",
        "\n",
        "    return bands\n",
        "\n",
        "# Load rating data to generate user signatures\n",
        "rating = pd.read_csv('data/rating.csv')\n",
        "user_movies = rating.groupby('userId')['movieId'].apply(set).to_dict()\n",
        "\n",
        "recommender = MinHashRecommender(num_hashes=num_hashes)\n",
        "recommender.generate_hash_functions(max(rating['movieId']))\n",
        "user_signatures = recommender.compute_signatures(user_movies) # define of user_signatures\n",
        "\n",
        "#  Apply banding to one user's signature\n",
        "user_id = 1\n",
        "signature = user_signatures[user_id]  # Get the MinHash signature of user 1\n",
        "bands = split_into_bands(signature, num_bands, num_hashes)\n",
        "\n",
        "# Check the bands for this user\n",
        "print(f\"Bands for user {user_id}: {bands}\")\n",
        "\n",
        "\n",
        "# Hash function to hash a band\n",
        "def hash_band(band):\n",
        "\n",
        "    return hashlib.md5(str(band).encode('utf8')).hexdigest()\n",
        "\n",
        "# Hash each band and place users in buckets\n",
        "def create_buckets(user_signatures, num_bands, num_hashes):\n",
        "    buckets = defaultdict(list)\n",
        "\n",
        "    for user_id, signature in user_signatures.items():\n",
        "        # Split the signature into bands\n",
        "        bands = split_into_bands(signature, num_bands, num_hashes)\n",
        "\n",
        "        # For each band, hash it and put the user into the corresponding bucket\n",
        "        for i, band in enumerate(bands):\n",
        "            band_hash = hash_band(band)\n",
        "            buckets[band_hash].append(user_id)\n",
        "\n",
        "    return buckets\n",
        "\n",
        "# Create the buckets for all users\n",
        "buckets = create_buckets(user_signatures, num_bands, num_hashes)\n",
        "\n",
        "# Debugging Tip: Check a few bucket contents to verify users are grouped together\n",
        "for bucket_id, users in list(buckets.items())[:5]:  # Check the first 5 buckets\n",
        "    print(f\"Bucket {bucket_id}: {users}\")\n",
        "\n",
        "# 2. Query function to find similar users for a given user\n",
        "\n",
        "def find_similar_users(query_user_id, user_signatures, buckets, num_bands, num_hashes):\n",
        "    # Get the MinHash signature for the query user\n",
        "    query_signature = user_signatures[query_user_id]\n",
        "\n",
        "    # Split the query user's signature into bands\n",
        "    query_bands = split_into_bands(query_signature, num_bands, num_hashes)\n",
        "\n",
        "    similar_users = set()\n",
        "\n",
        "    # For each band, check the bucket and find users in the same bucket\n",
        "    for band in query_bands:\n",
        "        band_hash = hash_band(band)\n",
        "\n",
        "        # If the band hash exists in the buckets, add the users to the similar_users set\n",
        "        if band_hash in buckets:\n",
        "            similar_users.update(buckets[band_hash])\n",
        "\n",
        "    # Remove the query user from the similar users (since a user is most similar to themselves)\n",
        "    similar_users.discard(query_user_id)\n",
        "\n",
        "    return similar_users\n",
        "\n",
        "#  Find similar users for user 1\n",
        "query_user_id = 1\n",
        "similar_users = find_similar_users(query_user_id, user_signatures, buckets, num_bands, num_hashes)\n",
        "\n",
        "print(f\"Similar users for user {query_user_id}: {similar_users}\")"
      ]
    },
    {
      "cell_type": "code",
      "source": [
        "import pandas as pd\n",
        "import numpy as np\n",
        "\n",
        "# rating DataFrame with user ratings\n",
        "rating_movie = {\n",
        "    'userId': [1, 1, 1, 2, 2, 2, 3, 3, 3],\n",
        "    'movieId': ['Inception', 'Titanic', 'Avatar', 'Inception', 'Matrix', 'Toy Story', 'Titanic', 'Avatar', 'Shrek'],\n",
        "    'rating': [4.5, 4.2, 2.8, 4.6, 3.9, 4.7, 3.8, 4.3, 4.1]\n",
        "}\n",
        "rating_df = pd.DataFrame(rating_movie)\n",
        "\n",
        "# Create a user-item matrix\n",
        "user_movie_matrix = rating_df.pivot(index='userId', columns='movieId', values='rating')\n",
        "\n",
        "# Given similar users based on MinHash or LSH (in practice, you would use an actual similarity measure)\n",
        "user_similarities = {\n",
        "    1: {2: 0.9, 3: 0.7},  # User 1 is most similar to User 2 (0.9) and User 3 (0.7)\n",
        "    2: {1: 0.9, 3: 0.6},\n",
        "    3: {1: 0.7, 2: 0.6}\n",
        "}\n",
        "\n",
        "# Function to get the most similar users\n",
        "def get_similar_users(user_id, user_similarities, top_n=2):\n",
        "    \"\"\"Get the top N similar users to a given user.\"\"\"\n",
        "    if user_id not in user_similarities:\n",
        "        return []\n",
        "    return sorted(user_similarities[user_id].items(), key=lambda x: x[1], reverse=True)[:top_n]\n",
        "\n",
        "# Function to recommend movies based on common ratings and top-rated movies\n",
        "def recommend_movies(user_id, user_movie_matrix, user_similarities, top_n_similar_users=2, top_n_recommendations=5):\n",
        "    # Step 1: Get the most similar users\n",
        "    similar_users = get_similar_users(user_id, user_similarities, top_n=top_n_similar_users)\n",
        "\n",
        "    # Extract user IDs of the most similar users\n",
        "    similar_user_ids = [user for user, _ in similar_users]\n",
        "\n",
        "    # Step 2: Find common movies rated by both the target user and the similar users\n",
        "    user_movies = set(user_movie_matrix.loc[user_id].dropna().index)\n",
        "    common_movies = set(user_movies)\n",
        "\n",
        "    for sim_user in similar_user_ids:\n",
        "        sim_user_movies = set(user_movie_matrix.loc[sim_user].dropna().index)\n",
        "        common_movies.intersection_update(sim_user_movies)\n",
        "\n",
        "    # Step 3: Calculate the average rating of common movies\n",
        "    common_movie_ratings = []\n",
        "    if common_movies:\n",
        "        for movie in common_movies:\n",
        "            ratings_for_movie = [user_movie_matrix.loc[sim_user, movie] for sim_user in similar_user_ids]\n",
        "            avg_rating = np.mean(ratings_for_movie)\n",
        "            common_movie_ratings.append((movie, avg_rating))\n",
        "\n",
        "    # Sort common movies by average rating in descending order\n",
        "    common_movie_ratings.sort(key=lambda x: x[1], reverse=True)\n",
        "\n",
        "    # Step 4: Create the recommendations list (ensure it's at least 5 items)\n",
        "    recommendations = []\n",
        "\n",
        "    # Add common movie recommendations first (sorted by average rating)\n",
        "    recommendations.extend(common_movie_ratings[:top_n_recommendations])\n",
        "\n",
        "    # Ensure no duplicate movies (we only want unique movie recommendations)\n",
        "    recommended_movies_set = set([movie for movie, _ in recommendations])\n",
        "\n",
        "    # If fewer than 5 recommendations, add top-rated movies from the most similar user\n",
        "    if len(recommendations) < top_n_recommendations:\n",
        "        most_similar_user = similar_user_ids[0]\n",
        "        top_rated_movies = user_movie_matrix.loc[most_similar_user].dropna().sort_values(ascending=False).head(top_n_recommendations - len(recommendations))\n",
        "\n",
        "        # Add top-rated movies from most similar user, ensuring no duplicates\n",
        "        for movie, rating in top_rated_movies.items():\n",
        "            if movie not in recommended_movies_set:  # Ensure no duplicate\n",
        "                recommendations.append((movie, rating))\n",
        "                recommended_movies_set.add(movie)  # Add to the set of recommended movies\n",
        "\n",
        "    # If still fewer than 5, try adding movies from the next most similar user\n",
        "    if len(recommendations) < top_n_recommendations:\n",
        "        next_similar_user = similar_user_ids[1] if len(similar_user_ids) > 1 else similar_user_ids[0]\n",
        "        top_rated_movies = user_movie_matrix.loc[next_similar_user].dropna().sort_values(ascending=False).head(top_n_recommendations - len(recommendations))\n",
        "\n",
        "        # Add top-rated movies from the second most similar user, ensuring no duplicates\n",
        "        for movie, rating in top_rated_movies.items():\n",
        "            if movie not in recommended_movies_set:\n",
        "                recommendations.append((movie, rating))\n",
        "                recommended_movies_set.add(movie)\n",
        "\n",
        "    # 5 recommendations\n",
        "    return recommendations[:top_n_recommendations]\n",
        "\n",
        "#Recommend movies for user X\n",
        "user_id = 'X'\n",
        "if user_id not in user_movie_matrix.index:\n",
        "    print(f\"User {user_id}\")\n",
        "else:\n",
        "  recommended_movies = recommend_movies(user_id, user_movie_matrix, user_similarities)\n",
        "\n",
        "# Display the recommended movies\n",
        "print(f\"Recommended movies for user {user_id}:\")\n",
        "for movie, rating in recommended_movies:\n",
        "    print(f\"Movie: {movie}, Rating: {rating:.1f}\")"
      ],
      "metadata": {
        "colab": {
          "base_uri": "https://localhost:8080/"
        },
        "id": "2MyZ4uTdEaLQ",
        "outputId": "9662f264-d2bb-4d85-b156-512c5ffcc171"
      },
      "execution_count": null,
      "outputs": [
        {
          "output_type": "stream",
          "name": "stdout",
          "text": [
            "User X\n",
            "Recommended movies for user X:\n",
            "Movie: Toy Story, Rating: 4.7\n",
            "Movie: Inception, Rating: 4.6\n",
            "Movie: Matrix, Rating: 3.9\n",
            "Movie: Avatar, Rating: 4.3\n",
            "Movie: Shrek, Rating: 4.1\n"
          ]
        }
      ]
    }
  ],
  "metadata": {
    "colab": {
      "provenance": [],
      "authorship_tag": "ABX9TyPdeTLXmnt9skrPn/waxgVZ",
      "include_colab_link": true
    },
    "kernelspec": {
      "display_name": "Python 3",
      "name": "python3"
    },
    "language_info": {
      "name": "python"
    }
  },
  "nbformat": 4,
  "nbformat_minor": 0
}