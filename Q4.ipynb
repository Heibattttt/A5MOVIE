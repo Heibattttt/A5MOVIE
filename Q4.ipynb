{
  "nbformat": 4,
  "nbformat_minor": 0,
  "metadata": {
    "colab": {
      "provenance": [],
      "authorship_tag": "ABX9TyMUAVS7t1GYhjfTgebZvZ9H",
      "include_colab_link": true
    },
    "kernelspec": {
      "name": "python3",
      "display_name": "Python 3"
    },
    "language_info": {
      "name": "python"
    }
  },
  "cells": [
    {
      "cell_type": "markdown",
      "metadata": {
        "id": "view-in-github",
        "colab_type": "text"
      },
      "source": [
        "<a href=\"https://colab.research.google.com/github/Heibattttt/A5MOVIE/blob/main/Untitled15.ipynb\" target=\"_parent\"><img src=\"https://colab.research.google.com/assets/colab-badge.svg\" alt=\"Open In Colab\"/></a>"
      ]
    },
    {
      "cell_type": "code",
      "execution_count": null,
      "metadata": {
        "id": "imQJf2mfVIpp"
      },
      "outputs": [],
      "source": [
        "# Recursive Approach to Determine Maximum Score\n",
        "def calculate_max_score(nums, start, end, is_arya_turn):\n",
        "    if start > end:\n",
        "        return 0\n",
        "\n",
        "    if is_arya_turn:\n",
        "        # Arya aims to maximize her score\n",
        "        pick_from_start = nums[start] + calculate_max_score(nums, start + 1, end, False)\n",
        "        pick_from_end = nums[end] + calculate_max_score(nums, start, end - 1, False)\n",
        "        return max(pick_from_start, pick_from_end)\n",
        "    else:\n",
        "        # Mario aims to minimize Arya's score\n",
        "        pick_from_start = calculate_max_score(nums, start + 1, end, True)\n",
        "        pick_from_end = calculate_max_score(nums, start, end - 1, True)\n",
        "        return min(pick_from_start, pick_from_end)\n",
        "\n",
        "def can_arya_win(nums):\n",
        "    total_sum = sum(nums)\n",
        "    arya_score = calculate_max_score(nums, 0, len(nums) - 1, True)\n",
        "    mario_score = total_sum - arya_score\n",
        "    return arya_score >= mario_score\n",
        "\n",
        "# Dynamic Programming Approach for Optimization\n",
        "def can_arya_win_dp(nums):\n",
        "    n = len(nums)\n",
        "    dp = [[0] * n for _ in range(n)]\n",
        "\n",
        "    # Initialize the base cases where subarrays have only one element\n",
        "    for i in range(n):\n",
        "        dp[i][i] = nums[i]\n",
        "\n",
        "    # Build the DP table for subarrays of increasing lengths\n",
        "    for length in range(2, n + 1):\n",
        "        for start in range(n - length + 1):\n",
        "            end = start + length - 1\n",
        "            pick_from_start = nums[start] - dp[start + 1][end]\n",
        "            pick_from_end = nums[end] - dp[start][end - 1]\n",
        "            dp[start][end] = max(pick_from_start, pick_from_end)\n",
        "\n",
        "    # Arya can win if her score is greater than or equal to Mario's\n",
        "    return dp[0][n - 1] >= 0\n",
        "\n",
        "# Accept input for the game numbers\n",
        "nums = list(map(int, input(\"Enter the numbers separated by spaces: \").split()))\n",
        "\n",
        "# Use the optimized DP solution for better performance\n",
        "result = can_arya_win_dp(nums)\n",
        "print(\"True\" if result else \"False\")\n"
      ]
    }
  ]
}
